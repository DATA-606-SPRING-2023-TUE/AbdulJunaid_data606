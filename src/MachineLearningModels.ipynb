{
 "cells": [
  {
   "cell_type": "markdown",
   "id": "f0bb64ba",
   "metadata": {
    "id": "f0bb64ba"
   },
   "source": [
    "## Libraries"
   ]
  },
  {
   "cell_type": "code",
   "execution_count": 1,
   "id": "xuDBzy1iGRUD",
   "metadata": {
    "id": "xuDBzy1iGRUD"
   },
   "outputs": [],
   "source": [
    "## Data Manipulation, Viz\n",
    "import pandas as pd\n",
    "import numpy as np\n",
    "import seaborn as sns\n",
    "%matplotlib inline\n",
    "import matplotlib.pyplot as plt\n",
    "## Encoding, metrics, Normalization\n",
    "from sklearn.preprocessing import LabelEncoder\n",
    "from sklearn.preprocessing import StandardScaler\n",
    "from sklearn.preprocessing import MinMaxScaler\n",
    "from sklearn import metrics \n",
    "from sklearn.metrics import r2_score, mean_absolute_error, mean_squared_error\n",
    "## ML Models \n",
    "from sklearn.ensemble import ExtraTreesRegressor\n",
    "from sklearn.linear_model import LinearRegression\n",
    "from sklearn.tree import DecisionTreeRegressor\n",
    "from sklearn.ensemble import RandomForestRegressor\n",
    "from xgboost import XGBRegressor\n",
    "from sklearn.linear_model import Lasso\n",
    "from sklearn.model_selection import RandomizedSearchCV\n",
    "from scipy.stats import randint\n",
    "import pickle\n",
    "import joblib"
   ]
  },
  {
   "cell_type": "code",
   "execution_count": 3,
   "id": "javWgwFc5kqk",
   "metadata": {
    "colab": {
     "base_uri": "https://localhost:8080/",
     "height": 206
    },
    "id": "javWgwFc5kqk",
    "outputId": "42fdd9b2-0f50-4dc4-9c22-14adc1bc320d",
    "scrolled": true
   },
   "outputs": [
    {
     "data": {
      "text/html": [
       "<div>\n",
       "<style scoped>\n",
       "    .dataframe tbody tr th:only-of-type {\n",
       "        vertical-align: middle;\n",
       "    }\n",
       "\n",
       "    .dataframe tbody tr th {\n",
       "        vertical-align: top;\n",
       "    }\n",
       "\n",
       "    .dataframe thead th {\n",
       "        text-align: right;\n",
       "    }\n",
       "</style>\n",
       "<table border=\"1\" class=\"dataframe\">\n",
       "  <thead>\n",
       "    <tr style=\"text-align: right;\">\n",
       "      <th></th>\n",
       "      <th>price</th>\n",
       "      <th>year</th>\n",
       "      <th>manufacturer</th>\n",
       "      <th>model</th>\n",
       "      <th>condition</th>\n",
       "      <th>cylinders</th>\n",
       "      <th>fuel</th>\n",
       "      <th>odometer</th>\n",
       "      <th>title_status</th>\n",
       "      <th>transmission</th>\n",
       "      <th>drive</th>\n",
       "      <th>size</th>\n",
       "      <th>type</th>\n",
       "      <th>paint_color</th>\n",
       "      <th>state</th>\n",
       "    </tr>\n",
       "  </thead>\n",
       "  <tbody>\n",
       "    <tr>\n",
       "      <th>0</th>\n",
       "      <td>6000</td>\n",
       "      <td>2017.0</td>\n",
       "      <td>ford</td>\n",
       "      <td>sierra 1500 crew cab slt</td>\n",
       "      <td>good</td>\n",
       "      <td>8 cylinders</td>\n",
       "      <td>gas</td>\n",
       "      <td>92633.941756</td>\n",
       "      <td>clean</td>\n",
       "      <td>automatic</td>\n",
       "      <td>4wd</td>\n",
       "      <td>full-size</td>\n",
       "      <td>sedan</td>\n",
       "      <td>white</td>\n",
       "      <td>az</td>\n",
       "    </tr>\n",
       "    <tr>\n",
       "      <th>1</th>\n",
       "      <td>11900</td>\n",
       "      <td>2017.0</td>\n",
       "      <td>ford</td>\n",
       "      <td>sierra 1500 crew cab slt</td>\n",
       "      <td>good</td>\n",
       "      <td>8 cylinders</td>\n",
       "      <td>gas</td>\n",
       "      <td>92633.941756</td>\n",
       "      <td>clean</td>\n",
       "      <td>automatic</td>\n",
       "      <td>4wd</td>\n",
       "      <td>full-size</td>\n",
       "      <td>sedan</td>\n",
       "      <td>white</td>\n",
       "      <td>ar</td>\n",
       "    </tr>\n",
       "    <tr>\n",
       "      <th>2</th>\n",
       "      <td>21000</td>\n",
       "      <td>2017.0</td>\n",
       "      <td>ford</td>\n",
       "      <td>sierra 1500 crew cab slt</td>\n",
       "      <td>good</td>\n",
       "      <td>8 cylinders</td>\n",
       "      <td>gas</td>\n",
       "      <td>92633.941756</td>\n",
       "      <td>clean</td>\n",
       "      <td>automatic</td>\n",
       "      <td>4wd</td>\n",
       "      <td>full-size</td>\n",
       "      <td>sedan</td>\n",
       "      <td>white</td>\n",
       "      <td>fl</td>\n",
       "    </tr>\n",
       "    <tr>\n",
       "      <th>3</th>\n",
       "      <td>1500</td>\n",
       "      <td>2017.0</td>\n",
       "      <td>ford</td>\n",
       "      <td>sierra 1500 crew cab slt</td>\n",
       "      <td>good</td>\n",
       "      <td>8 cylinders</td>\n",
       "      <td>gas</td>\n",
       "      <td>92633.941756</td>\n",
       "      <td>clean</td>\n",
       "      <td>automatic</td>\n",
       "      <td>4wd</td>\n",
       "      <td>full-size</td>\n",
       "      <td>sedan</td>\n",
       "      <td>white</td>\n",
       "      <td>ma</td>\n",
       "    </tr>\n",
       "    <tr>\n",
       "      <th>4</th>\n",
       "      <td>4900</td>\n",
       "      <td>2017.0</td>\n",
       "      <td>ford</td>\n",
       "      <td>sierra 1500 crew cab slt</td>\n",
       "      <td>good</td>\n",
       "      <td>8 cylinders</td>\n",
       "      <td>gas</td>\n",
       "      <td>92633.941756</td>\n",
       "      <td>clean</td>\n",
       "      <td>automatic</td>\n",
       "      <td>4wd</td>\n",
       "      <td>full-size</td>\n",
       "      <td>sedan</td>\n",
       "      <td>white</td>\n",
       "      <td>nc</td>\n",
       "    </tr>\n",
       "  </tbody>\n",
       "</table>\n",
       "</div>"
      ],
      "text/plain": [
       "   price    year manufacturer                     model condition  \\\n",
       "0   6000  2017.0         ford  sierra 1500 crew cab slt      good   \n",
       "1  11900  2017.0         ford  sierra 1500 crew cab slt      good   \n",
       "2  21000  2017.0         ford  sierra 1500 crew cab slt      good   \n",
       "3   1500  2017.0         ford  sierra 1500 crew cab slt      good   \n",
       "4   4900  2017.0         ford  sierra 1500 crew cab slt      good   \n",
       "\n",
       "     cylinders fuel      odometer title_status transmission drive       size  \\\n",
       "0  8 cylinders  gas  92633.941756        clean    automatic   4wd  full-size   \n",
       "1  8 cylinders  gas  92633.941756        clean    automatic   4wd  full-size   \n",
       "2  8 cylinders  gas  92633.941756        clean    automatic   4wd  full-size   \n",
       "3  8 cylinders  gas  92633.941756        clean    automatic   4wd  full-size   \n",
       "4  8 cylinders  gas  92633.941756        clean    automatic   4wd  full-size   \n",
       "\n",
       "    type paint_color state  \n",
       "0  sedan       white    az  \n",
       "1  sedan       white    ar  \n",
       "2  sedan       white    fl  \n",
       "3  sedan       white    ma  \n",
       "4  sedan       white    nc  "
      ]
     },
     "execution_count": 3,
     "metadata": {},
     "output_type": "execute_result"
    }
   ],
   "source": [
    "## Cleaned Data with No Null Values and Outliers\n",
    "data = pd.read_csv(r\"C:\\Users\\letss\\Desktop\\UMBC CLASSES\\Spring2023\\Capstone\\Dataset\\veh_ML.csv\")\n",
    "data.head()"
   ]
  },
  {
   "cell_type": "markdown",
   "id": "M5CwUyyV6KiG",
   "metadata": {
    "id": "M5CwUyyV6KiG"
   },
   "source": [
    "## Categorical Encoding \n",
    " \n",
    "  **Label Encoding**\n",
    "\n",
    "*   If the variable has a nominal (unordered) category, one-hot encoding is typically used. If the variable has an ordinal (ordered) category, label encoding can be used. It is important to note that some algorithms, such as tree-based models, can handle categorical data without encoding.\n"
   ]
  },
  {
   "cell_type": "code",
   "execution_count": 4,
   "id": "R-KY7A6A6I4l",
   "metadata": {
    "id": "R-KY7A6A6I4l"
   },
   "outputs": [],
   "source": [
    "## Label Encoder Object Instantiation\n",
    "## Selecting Categorical Columns and then performing\n",
    "char_c = data.select_dtypes(include = ['object','bool']).columns\n",
    "Ce = LabelEncoder()\n",
    "data[char_c] = data[char_c].apply(Ce.fit_transform)"
   ]
  },
  {
   "cell_type": "code",
   "execution_count": 5,
   "id": "DFexlwEc640R",
   "metadata": {
    "colab": {
     "base_uri": "https://localhost:8080/",
     "height": 364
    },
    "id": "DFexlwEc640R",
    "outputId": "220e2ceb-9074-46fc-e4c7-2708912efd29"
   },
   "outputs": [
    {
     "data": {
      "text/html": [
       "<div>\n",
       "<style scoped>\n",
       "    .dataframe tbody tr th:only-of-type {\n",
       "        vertical-align: middle;\n",
       "    }\n",
       "\n",
       "    .dataframe tbody tr th {\n",
       "        vertical-align: top;\n",
       "    }\n",
       "\n",
       "    .dataframe thead th {\n",
       "        text-align: right;\n",
       "    }\n",
       "</style>\n",
       "<table border=\"1\" class=\"dataframe\">\n",
       "  <thead>\n",
       "    <tr style=\"text-align: right;\">\n",
       "      <th></th>\n",
       "      <th>price</th>\n",
       "      <th>year</th>\n",
       "      <th>manufacturer</th>\n",
       "      <th>model</th>\n",
       "      <th>condition</th>\n",
       "      <th>cylinders</th>\n",
       "      <th>fuel</th>\n",
       "      <th>odometer</th>\n",
       "      <th>title_status</th>\n",
       "      <th>transmission</th>\n",
       "      <th>drive</th>\n",
       "      <th>size</th>\n",
       "      <th>type</th>\n",
       "      <th>paint_color</th>\n",
       "      <th>state</th>\n",
       "    </tr>\n",
       "  </thead>\n",
       "  <tbody>\n",
       "    <tr>\n",
       "      <th>count</th>\n",
       "      <td>381221.000000</td>\n",
       "      <td>381221.000000</td>\n",
       "      <td>381221.000000</td>\n",
       "      <td>381221.000000</td>\n",
       "      <td>381221.000000</td>\n",
       "      <td>381221.000000</td>\n",
       "      <td>381221.000000</td>\n",
       "      <td>381221.000000</td>\n",
       "      <td>381221.000000</td>\n",
       "      <td>381221.000000</td>\n",
       "      <td>381221.000000</td>\n",
       "      <td>381221.000000</td>\n",
       "      <td>381221.000000</td>\n",
       "      <td>381221.000000</td>\n",
       "      <td>381221.000000</td>\n",
       "    </tr>\n",
       "    <tr>\n",
       "      <th>mean</th>\n",
       "      <td>17859.422062</td>\n",
       "      <td>2011.071709</td>\n",
       "      <td>18.631563</td>\n",
       "      <td>15136.478515</td>\n",
       "      <td>1.558849</td>\n",
       "      <td>4.649812</td>\n",
       "      <td>2.038353</td>\n",
       "      <td>92113.251802</td>\n",
       "      <td>0.131756</td>\n",
       "      <td>0.378665</td>\n",
       "      <td>0.533704</td>\n",
       "      <td>1.052009</td>\n",
       "      <td>6.675857</td>\n",
       "      <td>5.639613</td>\n",
       "      <td>23.562178</td>\n",
       "    </tr>\n",
       "    <tr>\n",
       "      <th>std</th>\n",
       "      <td>12814.066807</td>\n",
       "      <td>9.363635</td>\n",
       "      <td>11.566839</td>\n",
       "      <td>7111.390832</td>\n",
       "      <td>0.930482</td>\n",
       "      <td>1.246447</td>\n",
       "      <td>0.723101</td>\n",
       "      <td>60517.847458</td>\n",
       "      <td>0.734360</td>\n",
       "      <td>0.745430</td>\n",
       "      <td>0.727149</td>\n",
       "      <td>0.393636</td>\n",
       "      <td>3.729863</td>\n",
       "      <td>4.120063</td>\n",
       "      <td>15.118771</td>\n",
       "    </tr>\n",
       "    <tr>\n",
       "      <th>min</th>\n",
       "      <td>1.000000</td>\n",
       "      <td>1900.000000</td>\n",
       "      <td>0.000000</td>\n",
       "      <td>0.000000</td>\n",
       "      <td>0.000000</td>\n",
       "      <td>0.000000</td>\n",
       "      <td>0.000000</td>\n",
       "      <td>1.000000</td>\n",
       "      <td>0.000000</td>\n",
       "      <td>0.000000</td>\n",
       "      <td>0.000000</td>\n",
       "      <td>0.000000</td>\n",
       "      <td>0.000000</td>\n",
       "      <td>0.000000</td>\n",
       "      <td>0.000000</td>\n",
       "    </tr>\n",
       "    <tr>\n",
       "      <th>25%</th>\n",
       "      <td>7000.000000</td>\n",
       "      <td>2008.000000</td>\n",
       "      <td>10.000000</td>\n",
       "      <td>9943.000000</td>\n",
       "      <td>1.000000</td>\n",
       "      <td>3.000000</td>\n",
       "      <td>2.000000</td>\n",
       "      <td>39649.000000</td>\n",
       "      <td>0.000000</td>\n",
       "      <td>0.000000</td>\n",
       "      <td>0.000000</td>\n",
       "      <td>1.000000</td>\n",
       "      <td>4.000000</td>\n",
       "      <td>1.000000</td>\n",
       "      <td>9.000000</td>\n",
       "    </tr>\n",
       "    <tr>\n",
       "      <th>50%</th>\n",
       "      <td>14995.000000</td>\n",
       "      <td>2013.000000</td>\n",
       "      <td>14.000000</td>\n",
       "      <td>15288.000000</td>\n",
       "      <td>2.000000</td>\n",
       "      <td>5.000000</td>\n",
       "      <td>2.000000</td>\n",
       "      <td>88606.000000</td>\n",
       "      <td>0.000000</td>\n",
       "      <td>0.000000</td>\n",
       "      <td>0.000000</td>\n",
       "      <td>1.000000</td>\n",
       "      <td>9.000000</td>\n",
       "      <td>8.000000</td>\n",
       "      <td>23.000000</td>\n",
       "    </tr>\n",
       "    <tr>\n",
       "      <th>75%</th>\n",
       "      <td>26990.000000</td>\n",
       "      <td>2017.000000</td>\n",
       "      <td>28.000000</td>\n",
       "      <td>21506.000000</td>\n",
       "      <td>2.000000</td>\n",
       "      <td>6.000000</td>\n",
       "      <td>2.000000</td>\n",
       "      <td>134552.000000</td>\n",
       "      <td>0.000000</td>\n",
       "      <td>0.000000</td>\n",
       "      <td>1.000000</td>\n",
       "      <td>1.000000</td>\n",
       "      <td>9.000000</td>\n",
       "      <td>10.000000</td>\n",
       "      <td>37.000000</td>\n",
       "    </tr>\n",
       "    <tr>\n",
       "      <th>max</th>\n",
       "      <td>58288.000000</td>\n",
       "      <td>2022.000000</td>\n",
       "      <td>41.000000</td>\n",
       "      <td>26828.000000</td>\n",
       "      <td>5.000000</td>\n",
       "      <td>7.000000</td>\n",
       "      <td>4.000000</td>\n",
       "      <td>279715.000000</td>\n",
       "      <td>5.000000</td>\n",
       "      <td>2.000000</td>\n",
       "      <td>2.000000</td>\n",
       "      <td>3.000000</td>\n",
       "      <td>12.000000</td>\n",
       "      <td>11.000000</td>\n",
       "      <td>50.000000</td>\n",
       "    </tr>\n",
       "  </tbody>\n",
       "</table>\n",
       "</div>"
      ],
      "text/plain": [
       "               price           year   manufacturer          model  \\\n",
       "count  381221.000000  381221.000000  381221.000000  381221.000000   \n",
       "mean    17859.422062    2011.071709      18.631563   15136.478515   \n",
       "std     12814.066807       9.363635      11.566839    7111.390832   \n",
       "min         1.000000    1900.000000       0.000000       0.000000   \n",
       "25%      7000.000000    2008.000000      10.000000    9943.000000   \n",
       "50%     14995.000000    2013.000000      14.000000   15288.000000   \n",
       "75%     26990.000000    2017.000000      28.000000   21506.000000   \n",
       "max     58288.000000    2022.000000      41.000000   26828.000000   \n",
       "\n",
       "           condition      cylinders           fuel       odometer  \\\n",
       "count  381221.000000  381221.000000  381221.000000  381221.000000   \n",
       "mean        1.558849       4.649812       2.038353   92113.251802   \n",
       "std         0.930482       1.246447       0.723101   60517.847458   \n",
       "min         0.000000       0.000000       0.000000       1.000000   \n",
       "25%         1.000000       3.000000       2.000000   39649.000000   \n",
       "50%         2.000000       5.000000       2.000000   88606.000000   \n",
       "75%         2.000000       6.000000       2.000000  134552.000000   \n",
       "max         5.000000       7.000000       4.000000  279715.000000   \n",
       "\n",
       "        title_status   transmission          drive           size  \\\n",
       "count  381221.000000  381221.000000  381221.000000  381221.000000   \n",
       "mean        0.131756       0.378665       0.533704       1.052009   \n",
       "std         0.734360       0.745430       0.727149       0.393636   \n",
       "min         0.000000       0.000000       0.000000       0.000000   \n",
       "25%         0.000000       0.000000       0.000000       1.000000   \n",
       "50%         0.000000       0.000000       0.000000       1.000000   \n",
       "75%         0.000000       0.000000       1.000000       1.000000   \n",
       "max         5.000000       2.000000       2.000000       3.000000   \n",
       "\n",
       "                type    paint_color          state  \n",
       "count  381221.000000  381221.000000  381221.000000  \n",
       "mean        6.675857       5.639613      23.562178  \n",
       "std         3.729863       4.120063      15.118771  \n",
       "min         0.000000       0.000000       0.000000  \n",
       "25%         4.000000       1.000000       9.000000  \n",
       "50%         9.000000       8.000000      23.000000  \n",
       "75%         9.000000      10.000000      37.000000  \n",
       "max        12.000000      11.000000      50.000000  "
      ]
     },
     "execution_count": 5,
     "metadata": {},
     "output_type": "execute_result"
    }
   ],
   "source": [
    "data.describe()"
   ]
  },
  {
   "cell_type": "code",
   "execution_count": 6,
   "id": "BI2yIIJt3XjM",
   "metadata": {
    "colab": {
     "base_uri": "https://localhost:8080/",
     "height": 206
    },
    "id": "BI2yIIJt3XjM",
    "outputId": "43533f40-0bee-4d4e-d526-2df075eaa082"
   },
   "outputs": [
    {
     "data": {
      "text/html": [
       "<div>\n",
       "<style scoped>\n",
       "    .dataframe tbody tr th:only-of-type {\n",
       "        vertical-align: middle;\n",
       "    }\n",
       "\n",
       "    .dataframe tbody tr th {\n",
       "        vertical-align: top;\n",
       "    }\n",
       "\n",
       "    .dataframe thead th {\n",
       "        text-align: right;\n",
       "    }\n",
       "</style>\n",
       "<table border=\"1\" class=\"dataframe\">\n",
       "  <thead>\n",
       "    <tr style=\"text-align: right;\">\n",
       "      <th></th>\n",
       "      <th>price</th>\n",
       "      <th>year</th>\n",
       "      <th>manufacturer</th>\n",
       "      <th>model</th>\n",
       "      <th>condition</th>\n",
       "      <th>cylinders</th>\n",
       "      <th>fuel</th>\n",
       "      <th>odometer</th>\n",
       "      <th>title_status</th>\n",
       "      <th>transmission</th>\n",
       "      <th>drive</th>\n",
       "      <th>size</th>\n",
       "      <th>type</th>\n",
       "      <th>paint_color</th>\n",
       "      <th>state</th>\n",
       "    </tr>\n",
       "  </thead>\n",
       "  <tbody>\n",
       "    <tr>\n",
       "      <th>0</th>\n",
       "      <td>6000</td>\n",
       "      <td>2017.0</td>\n",
       "      <td>13</td>\n",
       "      <td>22047</td>\n",
       "      <td>2</td>\n",
       "      <td>6</td>\n",
       "      <td>2</td>\n",
       "      <td>92633.941756</td>\n",
       "      <td>0</td>\n",
       "      <td>0</td>\n",
       "      <td>0</td>\n",
       "      <td>1</td>\n",
       "      <td>9</td>\n",
       "      <td>10</td>\n",
       "      <td>3</td>\n",
       "    </tr>\n",
       "    <tr>\n",
       "      <th>1</th>\n",
       "      <td>11900</td>\n",
       "      <td>2017.0</td>\n",
       "      <td>13</td>\n",
       "      <td>22047</td>\n",
       "      <td>2</td>\n",
       "      <td>6</td>\n",
       "      <td>2</td>\n",
       "      <td>92633.941756</td>\n",
       "      <td>0</td>\n",
       "      <td>0</td>\n",
       "      <td>0</td>\n",
       "      <td>1</td>\n",
       "      <td>9</td>\n",
       "      <td>10</td>\n",
       "      <td>2</td>\n",
       "    </tr>\n",
       "    <tr>\n",
       "      <th>2</th>\n",
       "      <td>21000</td>\n",
       "      <td>2017.0</td>\n",
       "      <td>13</td>\n",
       "      <td>22047</td>\n",
       "      <td>2</td>\n",
       "      <td>6</td>\n",
       "      <td>2</td>\n",
       "      <td>92633.941756</td>\n",
       "      <td>0</td>\n",
       "      <td>0</td>\n",
       "      <td>0</td>\n",
       "      <td>1</td>\n",
       "      <td>9</td>\n",
       "      <td>10</td>\n",
       "      <td>9</td>\n",
       "    </tr>\n",
       "    <tr>\n",
       "      <th>3</th>\n",
       "      <td>1500</td>\n",
       "      <td>2017.0</td>\n",
       "      <td>13</td>\n",
       "      <td>22047</td>\n",
       "      <td>2</td>\n",
       "      <td>6</td>\n",
       "      <td>2</td>\n",
       "      <td>92633.941756</td>\n",
       "      <td>0</td>\n",
       "      <td>0</td>\n",
       "      <td>0</td>\n",
       "      <td>1</td>\n",
       "      <td>9</td>\n",
       "      <td>10</td>\n",
       "      <td>19</td>\n",
       "    </tr>\n",
       "    <tr>\n",
       "      <th>4</th>\n",
       "      <td>4900</td>\n",
       "      <td>2017.0</td>\n",
       "      <td>13</td>\n",
       "      <td>22047</td>\n",
       "      <td>2</td>\n",
       "      <td>6</td>\n",
       "      <td>2</td>\n",
       "      <td>92633.941756</td>\n",
       "      <td>0</td>\n",
       "      <td>0</td>\n",
       "      <td>0</td>\n",
       "      <td>1</td>\n",
       "      <td>9</td>\n",
       "      <td>10</td>\n",
       "      <td>27</td>\n",
       "    </tr>\n",
       "  </tbody>\n",
       "</table>\n",
       "</div>"
      ],
      "text/plain": [
       "   price    year  manufacturer  model  condition  cylinders  fuel  \\\n",
       "0   6000  2017.0            13  22047          2          6     2   \n",
       "1  11900  2017.0            13  22047          2          6     2   \n",
       "2  21000  2017.0            13  22047          2          6     2   \n",
       "3   1500  2017.0            13  22047          2          6     2   \n",
       "4   4900  2017.0            13  22047          2          6     2   \n",
       "\n",
       "       odometer  title_status  transmission  drive  size  type  paint_color  \\\n",
       "0  92633.941756             0             0      0     1     9           10   \n",
       "1  92633.941756             0             0      0     1     9           10   \n",
       "2  92633.941756             0             0      0     1     9           10   \n",
       "3  92633.941756             0             0      0     1     9           10   \n",
       "4  92633.941756             0             0      0     1     9           10   \n",
       "\n",
       "   state  \n",
       "0      3  \n",
       "1      2  \n",
       "2      9  \n",
       "3     19  \n",
       "4     27  "
      ]
     },
     "execution_count": 6,
     "metadata": {},
     "output_type": "execute_result"
    }
   ],
   "source": [
    "data.head(5)"
   ]
  },
  {
   "cell_type": "code",
   "execution_count": 7,
   "id": "1b42ec43",
   "metadata": {},
   "outputs": [],
   "source": [
    "trial3_data = data.drop('price',axis=1)"
   ]
  },
  {
   "cell_type": "code",
   "execution_count": 8,
   "id": "ddefae36",
   "metadata": {},
   "outputs": [],
   "source": [
    "## saving encoded dataframe as a pickle file\n",
    "with open('encoded_car_data.pkl', 'wb') as f:\n",
    "    pickle.dump(trial3_data, f)"
   ]
  },
  {
   "cell_type": "markdown",
   "id": "1L1GY_usryzT",
   "metadata": {
    "id": "1L1GY_usryzT"
   },
   "source": [
    "## Model Building"
   ]
  },
  {
   "cell_type": "markdown",
   "id": "OeZmkFdzr2_D",
   "metadata": {
    "id": "OeZmkFdzr2_D"
   },
   "source": [
    "Creating Dependent and Independent Variables"
   ]
  },
  {
   "cell_type": "code",
   "execution_count": 9,
   "id": "KTV5a-48ZoDB",
   "metadata": {
    "id": "KTV5a-48ZoDB"
   },
   "outputs": [],
   "source": [
    "X = data.drop(\"price\",axis = 1) ## independent variables  \n",
    "y = data[\"price\"] ## Dependent Variable"
   ]
  },
  {
   "cell_type": "code",
   "execution_count": 10,
   "id": "JkMsuMCFnGCg",
   "metadata": {
    "id": "JkMsuMCFnGCg"
   },
   "outputs": [],
   "source": [
    "## Train Test Split\n",
    "from sklearn.model_selection import train_test_split\n",
    "X_train, X_test, y_train, y_test = train_test_split(X, y, test_size=0.33, random_state=42)"
   ]
  },
  {
   "cell_type": "code",
   "execution_count": 11,
   "id": "XfKCk8xTGDB8",
   "metadata": {
    "colab": {
     "base_uri": "https://localhost:8080/"
    },
    "id": "XfKCk8xTGDB8",
    "outputId": "0726ed39-f7b4-4bdc-9ef2-2541c3ba6398"
   },
   "outputs": [
    {
     "name": "stdout",
     "output_type": "stream",
     "text": [
      "(255418, 14)\n",
      "(125803, 14)\n"
     ]
    }
   ],
   "source": [
    "print(X_train.shape)\n",
    "print(X_test.shape)"
   ]
  },
  {
   "cell_type": "markdown",
   "id": "91WZ3XqIoYir",
   "metadata": {
    "id": "91WZ3XqIoYir"
   },
   "source": [
    "###### Scaling\n",
    "* Scaling is typically done after encoding, as most encoding techniques result in numerical data. The choice of scaling technique depends on the distribution of the data and the requirements of the machine learning algorithm. If the data has a normal distribution and the scale is important, standardization is typically used. If the data does not have a normal distribution and needs to be scaled to a specific range, such as between 0 and 1, normalization is typically used. It is important to note that some algorithms, such as tree-based models, are invariant to the scale of the data and do not require scaling.\n"
   ]
  },
  {
   "cell_type": "code",
   "execution_count": 12,
   "id": "lV45cleebPWV",
   "metadata": {
    "id": "lV45cleebPWV"
   },
   "outputs": [],
   "source": [
    "## Since the data is not Normally Distributed, Using Min Max-Normalization \n",
    "mm_scaler = MinMaxScaler()\n",
    "## Calculate and Transform\n",
    "X_train = mm_scaler.fit_transform(X_train) \n",
    "## use the same mean and variance as it is calculated from our training data to transform our test data.\n",
    "X_test  = mm_scaler.transform(X_test) "
   ]
  },
  {
   "cell_type": "code",
   "execution_count": 13,
   "id": "u_7mvJ85pmTp",
   "metadata": {
    "colab": {
     "base_uri": "https://localhost:8080/",
     "height": 364
    },
    "id": "u_7mvJ85pmTp",
    "outputId": "4fff4f57-e131-4f5f-c4e5-4c97c5fd0427"
   },
   "outputs": [
    {
     "data": {
      "text/html": [
       "<div>\n",
       "<style scoped>\n",
       "    .dataframe tbody tr th:only-of-type {\n",
       "        vertical-align: middle;\n",
       "    }\n",
       "\n",
       "    .dataframe tbody tr th {\n",
       "        vertical-align: top;\n",
       "    }\n",
       "\n",
       "    .dataframe thead th {\n",
       "        text-align: right;\n",
       "    }\n",
       "</style>\n",
       "<table border=\"1\" class=\"dataframe\">\n",
       "  <thead>\n",
       "    <tr style=\"text-align: right;\">\n",
       "      <th></th>\n",
       "      <th>0</th>\n",
       "      <th>1</th>\n",
       "      <th>2</th>\n",
       "      <th>3</th>\n",
       "      <th>4</th>\n",
       "      <th>5</th>\n",
       "      <th>6</th>\n",
       "      <th>7</th>\n",
       "      <th>8</th>\n",
       "      <th>9</th>\n",
       "      <th>10</th>\n",
       "      <th>11</th>\n",
       "      <th>12</th>\n",
       "      <th>13</th>\n",
       "    </tr>\n",
       "  </thead>\n",
       "  <tbody>\n",
       "    <tr>\n",
       "      <th>count</th>\n",
       "      <td>255418.000000</td>\n",
       "      <td>255418.000000</td>\n",
       "      <td>255418.000000</td>\n",
       "      <td>255418.000000</td>\n",
       "      <td>255418.000000</td>\n",
       "      <td>255418.000000</td>\n",
       "      <td>255418.000000</td>\n",
       "      <td>255418.000000</td>\n",
       "      <td>255418.000000</td>\n",
       "      <td>255418.000000</td>\n",
       "      <td>255418.000000</td>\n",
       "      <td>255418.000000</td>\n",
       "      <td>255418.000000</td>\n",
       "      <td>255418.000000</td>\n",
       "    </tr>\n",
       "    <tr>\n",
       "      <th>mean</th>\n",
       "      <td>0.910533</td>\n",
       "      <td>0.453867</td>\n",
       "      <td>0.564517</td>\n",
       "      <td>0.311348</td>\n",
       "      <td>0.664363</td>\n",
       "      <td>0.509657</td>\n",
       "      <td>0.329162</td>\n",
       "      <td>0.026250</td>\n",
       "      <td>0.189415</td>\n",
       "      <td>0.265972</td>\n",
       "      <td>0.350428</td>\n",
       "      <td>0.556414</td>\n",
       "      <td>0.512911</td>\n",
       "      <td>0.470952</td>\n",
       "    </tr>\n",
       "    <tr>\n",
       "      <th>std</th>\n",
       "      <td>0.076528</td>\n",
       "      <td>0.282073</td>\n",
       "      <td>0.265102</td>\n",
       "      <td>0.186248</td>\n",
       "      <td>0.178104</td>\n",
       "      <td>0.181025</td>\n",
       "      <td>0.216338</td>\n",
       "      <td>0.146536</td>\n",
       "      <td>0.372996</td>\n",
       "      <td>0.362986</td>\n",
       "      <td>0.130715</td>\n",
       "      <td>0.310675</td>\n",
       "      <td>0.374399</td>\n",
       "      <td>0.302347</td>\n",
       "    </tr>\n",
       "    <tr>\n",
       "      <th>min</th>\n",
       "      <td>0.000000</td>\n",
       "      <td>0.000000</td>\n",
       "      <td>0.000000</td>\n",
       "      <td>0.000000</td>\n",
       "      <td>0.000000</td>\n",
       "      <td>0.000000</td>\n",
       "      <td>0.000000</td>\n",
       "      <td>0.000000</td>\n",
       "      <td>0.000000</td>\n",
       "      <td>0.000000</td>\n",
       "      <td>0.000000</td>\n",
       "      <td>0.000000</td>\n",
       "      <td>0.000000</td>\n",
       "      <td>0.000000</td>\n",
       "    </tr>\n",
       "    <tr>\n",
       "      <th>25%</th>\n",
       "      <td>0.885246</td>\n",
       "      <td>0.243902</td>\n",
       "      <td>0.371589</td>\n",
       "      <td>0.200000</td>\n",
       "      <td>0.428571</td>\n",
       "      <td>0.500000</td>\n",
       "      <td>0.141738</td>\n",
       "      <td>0.000000</td>\n",
       "      <td>0.000000</td>\n",
       "      <td>0.000000</td>\n",
       "      <td>0.333333</td>\n",
       "      <td>0.333333</td>\n",
       "      <td>0.090909</td>\n",
       "      <td>0.180000</td>\n",
       "    </tr>\n",
       "    <tr>\n",
       "      <th>50%</th>\n",
       "      <td>0.926230</td>\n",
       "      <td>0.341463</td>\n",
       "      <td>0.570542</td>\n",
       "      <td>0.400000</td>\n",
       "      <td>0.714286</td>\n",
       "      <td>0.500000</td>\n",
       "      <td>0.316457</td>\n",
       "      <td>0.000000</td>\n",
       "      <td>0.000000</td>\n",
       "      <td>0.000000</td>\n",
       "      <td>0.333333</td>\n",
       "      <td>0.750000</td>\n",
       "      <td>0.727273</td>\n",
       "      <td>0.460000</td>\n",
       "    </tr>\n",
       "    <tr>\n",
       "      <th>75%</th>\n",
       "      <td>0.959016</td>\n",
       "      <td>0.682927</td>\n",
       "      <td>0.801625</td>\n",
       "      <td>0.400000</td>\n",
       "      <td>0.857143</td>\n",
       "      <td>0.500000</td>\n",
       "      <td>0.480845</td>\n",
       "      <td>0.000000</td>\n",
       "      <td>0.000000</td>\n",
       "      <td>0.500000</td>\n",
       "      <td>0.333333</td>\n",
       "      <td>0.750000</td>\n",
       "      <td>0.909091</td>\n",
       "      <td>0.740000</td>\n",
       "    </tr>\n",
       "    <tr>\n",
       "      <th>max</th>\n",
       "      <td>1.000000</td>\n",
       "      <td>1.000000</td>\n",
       "      <td>1.000000</td>\n",
       "      <td>1.000000</td>\n",
       "      <td>1.000000</td>\n",
       "      <td>1.000000</td>\n",
       "      <td>1.000000</td>\n",
       "      <td>1.000000</td>\n",
       "      <td>1.000000</td>\n",
       "      <td>1.000000</td>\n",
       "      <td>1.000000</td>\n",
       "      <td>1.000000</td>\n",
       "      <td>1.000000</td>\n",
       "      <td>1.000000</td>\n",
       "    </tr>\n",
       "  </tbody>\n",
       "</table>\n",
       "</div>"
      ],
      "text/plain": [
       "                  0              1              2              3   \\\n",
       "count  255418.000000  255418.000000  255418.000000  255418.000000   \n",
       "mean        0.910533       0.453867       0.564517       0.311348   \n",
       "std         0.076528       0.282073       0.265102       0.186248   \n",
       "min         0.000000       0.000000       0.000000       0.000000   \n",
       "25%         0.885246       0.243902       0.371589       0.200000   \n",
       "50%         0.926230       0.341463       0.570542       0.400000   \n",
       "75%         0.959016       0.682927       0.801625       0.400000   \n",
       "max         1.000000       1.000000       1.000000       1.000000   \n",
       "\n",
       "                  4              5              6              7   \\\n",
       "count  255418.000000  255418.000000  255418.000000  255418.000000   \n",
       "mean        0.664363       0.509657       0.329162       0.026250   \n",
       "std         0.178104       0.181025       0.216338       0.146536   \n",
       "min         0.000000       0.000000       0.000000       0.000000   \n",
       "25%         0.428571       0.500000       0.141738       0.000000   \n",
       "50%         0.714286       0.500000       0.316457       0.000000   \n",
       "75%         0.857143       0.500000       0.480845       0.000000   \n",
       "max         1.000000       1.000000       1.000000       1.000000   \n",
       "\n",
       "                  8              9              10             11  \\\n",
       "count  255418.000000  255418.000000  255418.000000  255418.000000   \n",
       "mean        0.189415       0.265972       0.350428       0.556414   \n",
       "std         0.372996       0.362986       0.130715       0.310675   \n",
       "min         0.000000       0.000000       0.000000       0.000000   \n",
       "25%         0.000000       0.000000       0.333333       0.333333   \n",
       "50%         0.000000       0.000000       0.333333       0.750000   \n",
       "75%         0.000000       0.500000       0.333333       0.750000   \n",
       "max         1.000000       1.000000       1.000000       1.000000   \n",
       "\n",
       "                  12             13  \n",
       "count  255418.000000  255418.000000  \n",
       "mean        0.512911       0.470952  \n",
       "std         0.374399       0.302347  \n",
       "min         0.000000       0.000000  \n",
       "25%         0.090909       0.180000  \n",
       "50%         0.727273       0.460000  \n",
       "75%         0.909091       0.740000  \n",
       "max         1.000000       1.000000  "
      ]
     },
     "execution_count": 13,
     "metadata": {},
     "output_type": "execute_result"
    }
   ],
   "source": [
    "## Checking that Variables are Normalized or Not\n",
    "pd.DataFrame(X_train).describe()"
   ]
  },
  {
   "cell_type": "markdown",
   "id": "o2Tq8dY2DHMq",
   "metadata": {
    "id": "o2Tq8dY2DHMq"
   },
   "source": [
    "## Linear Regression"
   ]
  },
  {
   "cell_type": "code",
   "execution_count": 15,
   "id": "7LiAQRZzl_GQ",
   "metadata": {
    "colab": {
     "base_uri": "https://localhost:8080/"
    },
    "id": "7LiAQRZzl_GQ",
    "outputId": "6ad5779c-a40d-4525-8106-95fc411b322b"
   },
   "outputs": [
    {
     "name": "stdout",
     "output_type": "stream",
     "text": [
      "Accuracy Score[R2]_Train  :  41.67321323154647\n",
      "Accuracy Score[R2]_Test :  41.52185664764537\n"
     ]
    }
   ],
   "source": [
    "## Linear Regression\n",
    "lr = LinearRegression()\n",
    "lr.fit(X_train,y_train)\n",
    "\n",
    "## Predicting the Training Data\n",
    "y_pred = lr.predict(X_train)\n",
    "acc_train_lr = metrics.r2_score(y_train, y_pred)\n",
    "print(\"Accuracy Score[R2]_Train  : \", acc_train_lr *100)\n",
    "\n",
    "## Predicting the Test Data\n",
    "y_pred = lr.predict(X_test)\n",
    "acc_test_lr = metrics.r2_score(y_test, y_pred)\n",
    "print(\"Accuracy Score[R2]_Test : \", acc_test_lr *100)"
   ]
  },
  {
   "cell_type": "code",
   "execution_count": 16,
   "id": "brgVwiEm8NPB",
   "metadata": {
    "colab": {
     "base_uri": "https://localhost:8080/"
    },
    "id": "brgVwiEm8NPB",
    "outputId": "86d0a58d-701d-410a-8b2e-a65905236360"
   },
   "outputs": [
    {
     "name": "stdout",
     "output_type": "stream",
     "text": [
      "MAE: 7325.845394344652\n",
      "MSE: 96015990.90975876\n",
      "RMSE: 9798.774969849994\n"
     ]
    }
   ],
   "source": [
    "print('MAE:', metrics.mean_absolute_error(y_test, y_pred))\n",
    "print('MSE:', metrics.mean_squared_error(y_test, y_pred))\n",
    "print('RMSE:', np.sqrt(metrics.mean_squared_error(y_test, y_pred)))"
   ]
  },
  {
   "cell_type": "code",
   "execution_count": 17,
   "id": "wDBNkf0w-eMI",
   "metadata": {
    "id": "wDBNkf0w-eMI"
   },
   "outputs": [],
   "source": [
    "def evaluate_model(true, predicted):\n",
    "    mae = mean_absolute_error(true, predicted)\n",
    "    mse = mean_squared_error(true, predicted)\n",
    "    rmse = np.sqrt(mean_squared_error(true, predicted))\n",
    "    r2_square = r2_score(true, predicted)\n",
    "    return mae, rmse, r2_square"
   ]
  },
  {
   "cell_type": "code",
   "execution_count": 18,
   "id": "KbLS342oxYgW",
   "metadata": {
    "colab": {
     "base_uri": "https://localhost:8080/"
    },
    "id": "KbLS342oxYgW",
    "outputId": "14b6f4d9-2532-4ea3-f578-3cae3b22c4c7"
   },
   "outputs": [
    {
     "data": {
      "text/plain": [
       "array([0.41251864, 0.41693738, 0.41243211, 0.41580833, 0.42036914])"
      ]
     },
     "execution_count": 18,
     "metadata": {},
     "output_type": "execute_result"
    }
   ],
   "source": [
    "from sklearn.model_selection import ShuffleSplit\n",
    "from sklearn.model_selection import cross_val_score\n",
    "\n",
    "cv = ShuffleSplit(n_splits=5, test_size=0.2, random_state=0)\n",
    "cross_val_score(LinearRegression(), X, y, cv=cv)"
   ]
  },
  {
   "cell_type": "markdown",
   "id": "IxsEBLXNDL9a",
   "metadata": {
    "id": "IxsEBLXNDL9a"
   },
   "source": [
    "## Decision Tree Regression"
   ]
  },
  {
   "cell_type": "code",
   "execution_count": 19,
   "id": "eV8bz3R74If8",
   "metadata": {
    "colab": {
     "base_uri": "https://localhost:8080/"
    },
    "id": "eV8bz3R74If8",
    "outputId": "9f42a811-447b-4335-a204-f2ff5502956a"
   },
   "outputs": [
    {
     "name": "stdout",
     "output_type": "stream",
     "text": [
      "Accuracy Score[R2]_Train :  99.94239146369351\n",
      "Accuracy Score[R2]_Test  :  73.86248192529476\n"
     ]
    }
   ],
   "source": [
    "## DecisionTreeRegressor\n",
    "dt = DecisionTreeRegressor()\n",
    "dt.fit(X_train,y_train)\n",
    "\n",
    "## Predicting the Training Data\n",
    "y_pred = dt.predict(X_train)\n",
    "acc_train_dt = metrics.r2_score(y_train, y_pred)\n",
    "print(\"Accuracy Score[R2]_Train : \", acc_train_dt*100)\n",
    "\n",
    "## Predicting the Test Data\n",
    "y_pred = dt.predict(X_test)\n",
    "acc_test_dt = metrics.r2_score(y_test, y_pred)\n",
    "print(\"Accuracy Score[R2]_Test  : \", acc_test_dt*100)"
   ]
  },
  {
   "cell_type": "code",
   "execution_count": 20,
   "id": "puikKtyMU6Kq",
   "metadata": {
    "colab": {
     "base_uri": "https://localhost:8080/"
    },
    "id": "puikKtyMU6Kq",
    "outputId": "bb6be5c8-008f-457f-cc8c-d1fc917b580a"
   },
   "outputs": [
    {
     "name": "stdout",
     "output_type": "stream",
     "text": [
      "MAE: 3015.4030367157393\n",
      "MSE: 42915516.02011495\n",
      "RMSE: 6550.993513972896\n"
     ]
    }
   ],
   "source": [
    "print('MAE:', metrics.mean_absolute_error(y_test, y_pred))\n",
    "print('MSE:', metrics.mean_squared_error(y_test, y_pred))\n",
    "print('RMSE:', np.sqrt(metrics.mean_squared_error(y_test, y_pred)))"
   ]
  },
  {
   "cell_type": "markdown",
   "id": "VwwNjIJ_DTET",
   "metadata": {
    "id": "VwwNjIJ_DTET"
   },
   "source": [
    "## Random Forest Regression"
   ]
  },
  {
   "cell_type": "code",
   "execution_count": 21,
   "id": "iXqt-7PXJnRU",
   "metadata": {
    "colab": {
     "base_uri": "https://localhost:8080/"
    },
    "id": "iXqt-7PXJnRU",
    "outputId": "d6f4e1b8-2204-4b1d-e6e1-d62f26ba3859"
   },
   "outputs": [
    {
     "name": "stdout",
     "output_type": "stream",
     "text": [
      "Accuracy Score[R2]_Train :  98.09653770323197\n",
      "Accuracy Score[R2]_Test  :  86.79133744612076\n"
     ]
    }
   ],
   "source": [
    "## RandomForestRegressor\n",
    "rf = RandomForestRegressor()\n",
    "rf.fit(X_train,y_train)\n",
    "\n",
    "## Predicting the Training Data\n",
    "y_pred = rf.predict(X_train)\n",
    "acc_train_rf = metrics.r2_score(y_train, y_pred)\n",
    "print(\"Accuracy Score[R2]_Train : \", acc_train_rf*100)\n",
    "\n",
    "## Predicting the Test Data\n",
    "y_pred = rf.predict(X_test)\n",
    "acc_test_rf = metrics.r2_score(y_test, y_pred)\n",
    "print(\"Accuracy Score[R2]_Test  : \", acc_test_rf*100)"
   ]
  },
  {
   "cell_type": "code",
   "execution_count": 22,
   "id": "mZXmy199Kd8L",
   "metadata": {
    "colab": {
     "base_uri": "https://localhost:8080/"
    },
    "id": "mZXmy199Kd8L",
    "outputId": "ca1eecd0-9fd1-4dda-c6a2-5924b2ef85e6"
   },
   "outputs": [
    {
     "name": "stdout",
     "output_type": "stream",
     "text": [
      "MAE: 2384.7636074903216\n",
      "MSE: 21687467.33393466\n",
      "RMSE: 4656.980495335433\n"
     ]
    }
   ],
   "source": [
    "print('MAE:', metrics.mean_absolute_error(y_test, y_pred))\n",
    "print('MSE:', metrics.mean_squared_error(y_test, y_pred))\n",
    "print('RMSE:', np.sqrt(metrics.mean_squared_error(y_test, y_pred)))"
   ]
  },
  {
   "cell_type": "markdown",
   "id": "Q3LuUYrKDXZB",
   "metadata": {
    "id": "Q3LuUYrKDXZB"
   },
   "source": [
    "## XgBoost Regression"
   ]
  },
  {
   "cell_type": "code",
   "execution_count": 28,
   "id": "OrHi2iEH-yoa",
   "metadata": {
    "colab": {
     "base_uri": "https://localhost:8080/"
    },
    "id": "OrHi2iEH-yoa",
    "outputId": "99e8cc5f-865a-4b92-af0d-f1eb0243ce3b"
   },
   "outputs": [
    {
     "name": "stdout",
     "output_type": "stream",
     "text": [
      "Accuracy Score[R2]_Train :  82.30358057374703\n",
      "Accuracy Score[R2]_Test  :  80.78928483079805\n"
     ]
    }
   ],
   "source": [
    "## xgboost Regression\n",
    "xg = XGBRegressor()\n",
    "xg.fit(X_train,y_train)\n",
    "\n",
    "## Predicting the Training Data\n",
    "y_pred = xg.predict(X_train)\n",
    "acc_train_xg = metrics.r2_score(y_train, y_pred)\n",
    "print(\"Accuracy Score[R2]_Train : \", acc_train_xg*100)\n",
    "\n",
    "## Predicting the Test Datas\n",
    "y_pred = xg.predict(X_test)\n",
    "acc_test_xg = metrics.r2_score(y_test, y_pred)\n",
    "print(\"Accuracy Score[R2]_Test  : \", acc_test_xg*100)"
   ]
  },
  {
   "cell_type": "code",
   "execution_count": 29,
   "id": "jI4Iz8G-VTSf",
   "metadata": {
    "colab": {
     "base_uri": "https://localhost:8080/"
    },
    "id": "jI4Iz8G-VTSf",
    "outputId": "4424a5f8-8943-4224-b649-f1f70f44134b"
   },
   "outputs": [
    {
     "name": "stdout",
     "output_type": "stream",
     "text": [
      "MAE: 3466.685591979486\n",
      "MSE: 31542312.175370887\n",
      "RMSE: 5616.25428336101\n"
     ]
    }
   ],
   "source": [
    "print('MAE:', metrics.mean_absolute_error(y_test, y_pred))\n",
    "print('MSE:', metrics.mean_squared_error(y_test, y_pred))\n",
    "print('RMSE:', np.sqrt(metrics.mean_squared_error(y_test, y_pred)))"
   ]
  },
  {
   "cell_type": "markdown",
   "id": "4GLjCrI0Dadz",
   "metadata": {
    "id": "4GLjCrI0Dadz"
   },
   "source": [
    "## Lasso Regression"
   ]
  },
  {
   "cell_type": "code",
   "execution_count": 30,
   "id": "7nYptKK0VTVV",
   "metadata": {
    "colab": {
     "base_uri": "https://localhost:8080/"
    },
    "id": "7nYptKK0VTVV",
    "outputId": "34765bb6-f0d0-48c1-e217-7881cd22f804"
   },
   "outputs": [
    {
     "name": "stdout",
     "output_type": "stream",
     "text": [
      "Accuracy Score[R2]_Train :  41.672965901217964\n",
      "Accuracy Score[R2]_Test  :  41.52362667531641\n"
     ]
    }
   ],
   "source": [
    "## Lasso Regression\n",
    "from sklearn.linear_model import Lasso\n",
    "la = Lasso()\n",
    "la.fit(X_train,y_train)\n",
    "\n",
    "## Predicting the Training Data\n",
    "y_pred = la.predict(X_train)\n",
    "acc_train_la = metrics.r2_score(y_train, y_pred)\n",
    "print(\"Accuracy Score[R2]_Train : \", acc_train_la*100)\n",
    "\n",
    "## Predicting the Test Datas\n",
    "y_pred = la.predict(X_test)\n",
    "acc_test_la = metrics.r2_score(y_test, y_pred)\n",
    "print(\"Accuracy Score[R2]_Test  : \", acc_test_la*100)"
   ]
  },
  {
   "cell_type": "code",
   "execution_count": 31,
   "id": "qfgSXqUnGNPc",
   "metadata": {
    "colab": {
     "base_uri": "https://localhost:8080/"
    },
    "id": "qfgSXqUnGNPc",
    "outputId": "9e8514c1-7bec-48ae-83c6-ed96a0e80295"
   },
   "outputs": [
    {
     "name": "stdout",
     "output_type": "stream",
     "text": [
      "MAE: 7326.61076680305\n",
      "MSE: 96013084.67931043\n",
      "RMSE: 9798.62667312672\n"
     ]
    }
   ],
   "source": [
    "print('MAE:', metrics.mean_absolute_error(y_test, y_pred))\n",
    "print('MSE:', metrics.mean_squared_error(y_test, y_pred))\n",
    "print('RMSE:', np.sqrt(metrics.mean_squared_error(y_test, y_pred)))"
   ]
  },
  {
   "cell_type": "markdown",
   "id": "m1iqHxOwGVnJ",
   "metadata": {
    "id": "m1iqHxOwGVnJ"
   },
   "source": [
    "## Dataframe with all Algorithms Accuracy"
   ]
  },
  {
   "cell_type": "code",
   "execution_count": 32,
   "id": "LoRACSoMMoll",
   "metadata": {
    "colab": {
     "base_uri": "https://localhost:8080/",
     "height": 206
    },
    "id": "LoRACSoMMoll",
    "outputId": "954ba3e5-cdfe-4ef3-bb8f-a4d9e089dc77"
   },
   "outputs": [
    {
     "data": {
      "text/html": [
       "<div>\n",
       "<style scoped>\n",
       "    .dataframe tbody tr th:only-of-type {\n",
       "        vertical-align: middle;\n",
       "    }\n",
       "\n",
       "    .dataframe tbody tr th {\n",
       "        vertical-align: top;\n",
       "    }\n",
       "\n",
       "    .dataframe thead th {\n",
       "        text-align: right;\n",
       "    }\n",
       "</style>\n",
       "<table border=\"1\" class=\"dataframe\">\n",
       "  <thead>\n",
       "    <tr style=\"text-align: right;\">\n",
       "      <th></th>\n",
       "      <th>Accuracy</th>\n",
       "    </tr>\n",
       "  </thead>\n",
       "  <tbody>\n",
       "    <tr>\n",
       "      <th>Random Forest</th>\n",
       "      <td>86.791337</td>\n",
       "    </tr>\n",
       "    <tr>\n",
       "      <th>XGBoost</th>\n",
       "      <td>80.789285</td>\n",
       "    </tr>\n",
       "    <tr>\n",
       "      <th>Decision Tree</th>\n",
       "      <td>73.862482</td>\n",
       "    </tr>\n",
       "    <tr>\n",
       "      <th>Lasso</th>\n",
       "      <td>41.523627</td>\n",
       "    </tr>\n",
       "    <tr>\n",
       "      <th>Linear Regression</th>\n",
       "      <td>41.521857</td>\n",
       "    </tr>\n",
       "  </tbody>\n",
       "</table>\n",
       "</div>"
      ],
      "text/plain": [
       "                    Accuracy\n",
       "Random Forest      86.791337\n",
       "XGBoost            80.789285\n",
       "Decision Tree      73.862482\n",
       "Lasso              41.523627\n",
       "Linear Regression  41.521857"
      ]
     },
     "execution_count": 32,
     "metadata": {},
     "output_type": "execute_result"
    }
   ],
   "source": [
    "data_tb = pd.DataFrame({'Accuracy' : [acc_test_lr, acc_test_dt, acc_test_rf, acc_test_xg, acc_test_la]},\n",
    "                        index = ['Linear Regression','Decision Tree', 'Random Forest', 'XGBoost', 'Lasso'])\n",
    "data_tb.sort_values(by='Accuracy', ascending=False)*100"
   ]
  },
  {
   "cell_type": "markdown",
   "id": "0366d317",
   "metadata": {
    "id": "Eb53Qy1m32px"
   },
   "source": [
    "## HyperParameter Tuning"
   ]
  },
  {
   "cell_type": "code",
   "execution_count": 34,
   "id": "5917ffec",
   "metadata": {},
   "outputs": [],
   "source": [
    "## simple performance reporting function\n",
    "def reg_performance(regressor, model_name):\n",
    "    print(model_name)\n",
    "    print('Best Score: ' + str(regressor.best_score_))\n",
    "    print('Best Parameters: ' + str(regressor.best_params_))"
   ]
  },
  {
   "cell_type": "markdown",
   "id": "0a437971",
   "metadata": {},
   "source": [
    "**Linear Regression-HT**"
   ]
  },
  {
   "cell_type": "code",
   "execution_count": 35,
   "id": "56da22ed",
   "metadata": {},
   "outputs": [],
   "source": [
    "lr = LinearRegression()\n",
    "params = {\n",
    "      'fit_intercept': [True, False],\n",
    "      'n_jobs': [-1, 1, 2, 3, 4, 5]\n",
    "}"
   ]
  },
  {
   "cell_type": "code",
   "execution_count": 36,
   "id": "f3f0765c",
   "metadata": {},
   "outputs": [
    {
     "name": "stdout",
     "output_type": "stream",
     "text": [
      "Fitting 3 folds for each of 10 candidates, totalling 30 fits\n",
      "LinearRegression\n",
      "Best Score: 0.41493734161756546\n",
      "Best Parameters: {'n_jobs': 4, 'fit_intercept': True}\n"
     ]
    }
   ],
   "source": [
    "reg_lr = RandomizedSearchCV(lr, param_distributions = params, cv = 3, verbose = True, n_jobs = 1, random_state = 0)\n",
    "best_reg_lr = reg_lr.fit(X_train[:50000],y_train[:50000])\n",
    "reg_performance(best_reg_lr,'LinearRegression')"
   ]
  },
  {
   "cell_type": "code",
   "execution_count": 38,
   "id": "5b6dfbdc",
   "metadata": {},
   "outputs": [
    {
     "data": {
      "text/plain": [
       "LinearRegression(n_jobs=4)"
      ]
     },
     "execution_count": 38,
     "metadata": {},
     "output_type": "execute_result"
    }
   ],
   "source": [
    "## train using full dataset and best parameters\n",
    "best_params = best_reg_lr.best_params_\n",
    "lr = LinearRegression(fit_intercept = best_params['fit_intercept'],n_jobs = best_params['n_jobs'])\n",
    "lr.fit(X_train,y_train)"
   ]
  },
  {
   "cell_type": "code",
   "execution_count": 39,
   "id": "82ce6d15",
   "metadata": {},
   "outputs": [
    {
     "name": "stdout",
     "output_type": "stream",
     "text": [
      "Accuracy Score[R2]_Train :  41.67321323154647\n"
     ]
    }
   ],
   "source": [
    "## Predicting training data\n",
    "y_pred=lr.predict(X_train)\n",
    "accuracy = metrics.r2_score(y_train, y_pred)\n",
    "print(\"Accuracy Score[R2]_Train : \", accuracy*100)"
   ]
  },
  {
   "cell_type": "code",
   "execution_count": 40,
   "id": "8a7003b3",
   "metadata": {},
   "outputs": [
    {
     "name": "stdout",
     "output_type": "stream",
     "text": [
      "Accuracy Score[R2]_Test  :  41.52185664764537\n"
     ]
    }
   ],
   "source": [
    "## Predicting the Test Data\n",
    "y_pred = lr.predict(X_test)\n",
    "accuracy_lr = metrics.r2_score(y_test, y_pred)\n",
    "print(\"Accuracy Score[R2]_Test  : \", accuracy_lr*100)"
   ]
  },
  {
   "cell_type": "markdown",
   "id": "2329ba0f",
   "metadata": {},
   "source": [
    "**Decision Tree - HT**"
   ]
  },
  {
   "cell_type": "code",
   "execution_count": 41,
   "id": "262ebe60",
   "metadata": {},
   "outputs": [
    {
     "name": "stdout",
     "output_type": "stream",
     "text": [
      "Fitting 3 folds for each of 10 candidates, totalling 30 fits\n",
      "DecisionTree\n",
      "Best Score: 0.533367422691834\n",
      "Best Parameters: {'splitter': 'best', 'max_depth': 20, 'criterion': 'friedman_mse'}\n"
     ]
    }
   ],
   "source": [
    "dr = DecisionTreeRegressor(random_state = 0)\n",
    "params = {\n",
    "    'max_depth': [20, 40, 60 ,80, 100],\n",
    "    'criterion':['mse','friedman_mse'],\n",
    "    'splitter': ['best','random']\n",
    "}\n",
    "\n",
    "reg_dr = RandomizedSearchCV(dr, param_distributions = params, cv = 3, verbose = True, n_jobs = 1, random_state = 0)\n",
    "best_reg_dr = reg_dr.fit(X_train[:50000],y_train[:50000])\n",
    "reg_performance(best_reg_dr,'DecisionTree')"
   ]
  },
  {
   "cell_type": "code",
   "execution_count": 42,
   "id": "8e582232",
   "metadata": {},
   "outputs": [
    {
     "data": {
      "text/plain": [
       "DecisionTreeRegressor(criterion='friedman_mse', max_depth=20, random_state=0)"
      ]
     },
     "execution_count": 42,
     "metadata": {},
     "output_type": "execute_result"
    }
   ],
   "source": [
    "## train using full dataset and best parameters\n",
    "best_params = best_reg_dr.best_params_\n",
    "dt = DecisionTreeRegressor(max_depth = best_params['max_depth'],criterion = best_params['criterion'],random_state=0)\n",
    "dt.fit(X_train,y_train)"
   ]
  },
  {
   "cell_type": "code",
   "execution_count": 43,
   "id": "f3619156",
   "metadata": {},
   "outputs": [
    {
     "name": "stdout",
     "output_type": "stream",
     "text": [
      "Accuracy Score[R2]_Train :  93.74063391021576\n"
     ]
    }
   ],
   "source": [
    "## Predicting training data\n",
    "y_pred=dt.predict(X_train)\n",
    "accuracy = metrics.r2_score(y_train, y_pred)\n",
    "print(\"Accuracy Score[R2]_Train : \", accuracy*100)"
   ]
  },
  {
   "cell_type": "code",
   "execution_count": 44,
   "id": "a23e1d5d",
   "metadata": {},
   "outputs": [
    {
     "name": "stdout",
     "output_type": "stream",
     "text": [
      "Accuracy Score[R2]_Test  :  75.49809378134435\n"
     ]
    }
   ],
   "source": [
    "## Predicting the Test Data\n",
    "y_pred = dt.predict(X_test)\n",
    "accuracy_dt = metrics.r2_score(y_test, y_pred)\n",
    "print(\"Accuracy Score[R2]_Test  : \", accuracy_dt*100)"
   ]
  },
  {
   "cell_type": "markdown",
   "id": "kT1dmH3E_umN",
   "metadata": {
    "id": "kT1dmH3E_umN"
   },
   "source": [
    "**Random forest - HT**"
   ]
  },
  {
   "cell_type": "code",
   "execution_count": 15,
   "id": "hzkaGnsepGuq",
   "metadata": {
    "colab": {
     "background_save": true,
     "base_uri": "https://localhost:8080/"
    },
    "id": "hzkaGnsepGuq",
    "outputId": "f6b34f44-3671-4714-a0b2-289c0bb4fa35"
   },
   "outputs": [
    {
     "name": "stdout",
     "output_type": "stream",
     "text": [
      "Fitting 3 folds for each of 10 candidates, totalling 30 fits\n",
      "Random Forest\n",
      "Best Score: 0.7603627160228021\n",
      "Best Parameters: {'n_estimators': 2000, 'min_samples_split': 5, 'min_samples_leaf': 1, 'max_features': 'auto', 'max_depth': 25}\n"
     ]
    },
    {
     "data": {
      "text/plain": [
       "RandomForestRegressor(max_depth=25, min_samples_split=5, n_estimators=2000,\n",
       "                      random_state=0)"
      ]
     },
     "execution_count": 15,
     "metadata": {},
     "output_type": "execute_result"
    }
   ],
   "source": [
    "rf = RandomForestRegressor(random_state = 0)\n",
    "param_grid =  {                   'n_estimators': [int(x) for x in np.linspace(start = 200, stop = 2000, num = 5)],\n",
    "                                  'max_depth': [15, 20, 25],\n",
    "                                  'max_features': ['auto','sqrt'],\n",
    "                                  'min_samples_leaf': [1, 2],\n",
    "                                  'min_samples_split': [2, 5]\n",
    "               }\n",
    "                                  \n",
    "reg_rf = RandomizedSearchCV(rf, param_distributions = param_grid, cv = 3,  verbose = 2, n_jobs = -1, random_state=0)\n",
    "best_reg_rf = reg_rf.fit(X_train[:50000],y_train[:50000])\n",
    "reg_performance(best_reg_rf,'Random Forest')\n",
    "\n",
    "## train using full dataset and best parameters\n",
    "best_params = reg_rf.best_params_\n",
    "rf = RandomForestRegressor(n_estimators = best_params['n_estimators'],max_depth = best_params['max_depth'],max_features = best_params['max_features'],min_samples_leaf = best_params['min_samples_leaf'],min_samples_split = best_params['min_samples_split'], random_state=0)\n",
    "rf.fit(X_train,y_train)"
   ]
  },
  {
   "cell_type": "code",
   "execution_count": 17,
   "id": "IMi6YgPrDl7b",
   "metadata": {
    "id": "IMi6YgPrDl7b"
   },
   "outputs": [
    {
     "name": "stdout",
     "output_type": "stream",
     "text": [
      "Accuracy Score[R2]_Test  :  86.48946373231945\n"
     ]
    }
   ],
   "source": [
    "## Predicting the Test Data\n",
    "y_pred = rf.predict(X_test)\n",
    "accuracy_rf  = metrics.r2_score(y_test, y_pred)\n",
    "print(\"Accuracy Score[R2]_Test  : \", accuracy_rf*100)"
   ]
  },
  {
   "cell_type": "markdown",
   "id": "apJhakvKEgAS",
   "metadata": {
    "id": "apJhakvKEgAS"
   },
   "source": [
    "**XgBoost Regression - HT**"
   ]
  },
  {
   "cell_type": "code",
   "execution_count": null,
   "id": "_ocbl8dkEh6z",
   "metadata": {
    "colab": {
     "base_uri": "https://localhost:8080/"
    },
    "id": "_ocbl8dkEh6z",
    "outputId": "82b024eb-fe05-47ae-c17e-a8e1951559d6"
   },
   "outputs": [
    {
     "name": "stdout",
     "output_type": "stream",
     "text": [
      "Fitting 2 folds for each of 10 candidates, totalling 20 fits\n",
      "xgboost\n",
      "Best Score: 0.7747032061358738\n",
      "Best Parameters: {'colsample_bytree': 0.4, 'learning_rate': 0.1, 'max_depth': 5, 'n_estimators': 947, 'subsample': 0.4}\n"
     ]
    }
   ],
   "source": [
    "xg = XGBRegressor(random_state = 0)\n",
    "params = {\n",
    "    'n_estimators': randint(100, 1000),\n",
    "    'max_depth': [3, 4, 5],\n",
    "    'learning_rate': [0.001, 0.1, 0.3],\n",
    "    'subsample': [0.4,  0.8,  1.0],\n",
    "    'colsample_bytree': [0.4,  0.8,  1.0]\n",
    "        }\n",
    "\n",
    "reg_xg = RandomizedSearchCV(xg, param_distributions = params, cv = 2, verbose = True, n_jobs = 1, random_state = 0)\n",
    "best_reg_xg = reg_xg.fit(X_train[:50000],y_train[:50000])\n",
    "reg_performance(best_reg_xg,'xgboost')"
   ]
  },
  {
   "cell_type": "code",
   "execution_count": null,
   "id": "7XU2sie7dte0",
   "metadata": {
    "colab": {
     "base_uri": "https://localhost:8080/"
    },
    "id": "7XU2sie7dte0",
    "outputId": "6631cb99-7a9a-459e-9108-c1ac759b953f"
   },
   "outputs": [
    {
     "data": {
      "text/plain": [
       "{'colsample_bytree': 0.4,\n",
       " 'learning_rate': 0.1,\n",
       " 'max_depth': 5,\n",
       " 'n_estimators': 947,\n",
       " 'subsample': 0.4}"
      ]
     },
     "execution_count": 71,
     "metadata": {},
     "output_type": "execute_result"
    }
   ],
   "source": [
    "best_reg_xg.best_params_"
   ]
  },
  {
   "cell_type": "code",
   "execution_count": null,
   "id": "RfPmYr9oIvcW",
   "metadata": {
    "colab": {
     "base_uri": "https://localhost:8080/",
     "height": 248
    },
    "id": "RfPmYr9oIvcW",
    "outputId": "baa61171-3576-4827-c129-4e7f3f9e0a0a"
   },
   "outputs": [
    {
     "data": {
      "text/html": [
       "<style>#sk-container-id-4 {color: black;background-color: white;}#sk-container-id-4 pre{padding: 0;}#sk-container-id-4 div.sk-toggleable {background-color: white;}#sk-container-id-4 label.sk-toggleable__label {cursor: pointer;display: block;width: 100%;margin-bottom: 0;padding: 0.3em;box-sizing: border-box;text-align: center;}#sk-container-id-4 label.sk-toggleable__label-arrow:before {content: \"▸\";float: left;margin-right: 0.25em;color: #696969;}#sk-container-id-4 label.sk-toggleable__label-arrow:hover:before {color: black;}#sk-container-id-4 div.sk-estimator:hover label.sk-toggleable__label-arrow:before {color: black;}#sk-container-id-4 div.sk-toggleable__content {max-height: 0;max-width: 0;overflow: hidden;text-align: left;background-color: #f0f8ff;}#sk-container-id-4 div.sk-toggleable__content pre {margin: 0.2em;color: black;border-radius: 0.25em;background-color: #f0f8ff;}#sk-container-id-4 input.sk-toggleable__control:checked~div.sk-toggleable__content {max-height: 200px;max-width: 100%;overflow: auto;}#sk-container-id-4 input.sk-toggleable__control:checked~label.sk-toggleable__label-arrow:before {content: \"▾\";}#sk-container-id-4 div.sk-estimator input.sk-toggleable__control:checked~label.sk-toggleable__label {background-color: #d4ebff;}#sk-container-id-4 div.sk-label input.sk-toggleable__control:checked~label.sk-toggleable__label {background-color: #d4ebff;}#sk-container-id-4 input.sk-hidden--visually {border: 0;clip: rect(1px 1px 1px 1px);clip: rect(1px, 1px, 1px, 1px);height: 1px;margin: -1px;overflow: hidden;padding: 0;position: absolute;width: 1px;}#sk-container-id-4 div.sk-estimator {font-family: monospace;background-color: #f0f8ff;border: 1px dotted black;border-radius: 0.25em;box-sizing: border-box;margin-bottom: 0.5em;}#sk-container-id-4 div.sk-estimator:hover {background-color: #d4ebff;}#sk-container-id-4 div.sk-parallel-item::after {content: \"\";width: 100%;border-bottom: 1px solid gray;flex-grow: 1;}#sk-container-id-4 div.sk-label:hover label.sk-toggleable__label {background-color: #d4ebff;}#sk-container-id-4 div.sk-serial::before {content: \"\";position: absolute;border-left: 1px solid gray;box-sizing: border-box;top: 0;bottom: 0;left: 50%;z-index: 0;}#sk-container-id-4 div.sk-serial {display: flex;flex-direction: column;align-items: center;background-color: white;padding-right: 0.2em;padding-left: 0.2em;position: relative;}#sk-container-id-4 div.sk-item {position: relative;z-index: 1;}#sk-container-id-4 div.sk-parallel {display: flex;align-items: stretch;justify-content: center;background-color: white;position: relative;}#sk-container-id-4 div.sk-item::before, #sk-container-id-4 div.sk-parallel-item::before {content: \"\";position: absolute;border-left: 1px solid gray;box-sizing: border-box;top: 0;bottom: 0;left: 50%;z-index: -1;}#sk-container-id-4 div.sk-parallel-item {display: flex;flex-direction: column;z-index: 1;position: relative;background-color: white;}#sk-container-id-4 div.sk-parallel-item:first-child::after {align-self: flex-end;width: 50%;}#sk-container-id-4 div.sk-parallel-item:last-child::after {align-self: flex-start;width: 50%;}#sk-container-id-4 div.sk-parallel-item:only-child::after {width: 0;}#sk-container-id-4 div.sk-dashed-wrapped {border: 1px dashed gray;margin: 0 0.4em 0.5em 0.4em;box-sizing: border-box;padding-bottom: 0.4em;background-color: white;}#sk-container-id-4 div.sk-label label {font-family: monospace;font-weight: bold;display: inline-block;line-height: 1.2em;}#sk-container-id-4 div.sk-label-container {text-align: center;}#sk-container-id-4 div.sk-container {/* jupyter's `normalize.less` sets `[hidden] { display: none; }` but bootstrap.min.css set `[hidden] { display: none !important; }` so we also need the `!important` here to be able to override the default hidden behavior on the sphinx rendered scikit-learn.org. See: https://github.com/scikit-learn/scikit-learn/issues/21755 */display: inline-block !important;position: relative;}#sk-container-id-4 div.sk-text-repr-fallback {display: none;}</style><div id=\"sk-container-id-4\" class=\"sk-top-container\"><div class=\"sk-text-repr-fallback\"><pre>XGBRegressor(base_score=None, booster=None, callbacks=None,\n",
       "             colsample_bylevel=None, colsample_bynode=None,\n",
       "             colsample_bytree=0.4, early_stopping_rounds=None,\n",
       "             enable_categorical=False, eval_metric=None, feature_types=None,\n",
       "             gamma=None, gpu_id=None, grow_policy=None, importance_type=None,\n",
       "             interaction_constraints=None, learning_rate=0.1, max_bin=None,\n",
       "             max_cat_threshold=None, max_cat_to_onehot=None,\n",
       "             max_delta_step=None, max_depth=5, max_leaves=None,\n",
       "             min_child_weight=None, missing=nan, monotone_constraints=None,\n",
       "             n_estimators=947, n_jobs=None, num_parallel_tree=None,\n",
       "             predictor=None, random_state=0, ...)</pre><b>In a Jupyter environment, please rerun this cell to show the HTML representation or trust the notebook. <br />On GitHub, the HTML representation is unable to render, please try loading this page with nbviewer.org.</b></div><div class=\"sk-container\" hidden><div class=\"sk-item\"><div class=\"sk-estimator sk-toggleable\"><input class=\"sk-toggleable__control sk-hidden--visually\" id=\"sk-estimator-id-4\" type=\"checkbox\" checked><label for=\"sk-estimator-id-4\" class=\"sk-toggleable__label sk-toggleable__label-arrow\">XGBRegressor</label><div class=\"sk-toggleable__content\"><pre>XGBRegressor(base_score=None, booster=None, callbacks=None,\n",
       "             colsample_bylevel=None, colsample_bynode=None,\n",
       "             colsample_bytree=0.4, early_stopping_rounds=None,\n",
       "             enable_categorical=False, eval_metric=None, feature_types=None,\n",
       "             gamma=None, gpu_id=None, grow_policy=None, importance_type=None,\n",
       "             interaction_constraints=None, learning_rate=0.1, max_bin=None,\n",
       "             max_cat_threshold=None, max_cat_to_onehot=None,\n",
       "             max_delta_step=None, max_depth=5, max_leaves=None,\n",
       "             min_child_weight=None, missing=nan, monotone_constraints=None,\n",
       "             n_estimators=947, n_jobs=None, num_parallel_tree=None,\n",
       "             predictor=None, random_state=0, ...)</pre></div></div></div></div></div>"
      ],
      "text/plain": [
       "XGBRegressor(base_score=None, booster=None, callbacks=None,\n",
       "             colsample_bylevel=None, colsample_bynode=None,\n",
       "             colsample_bytree=0.4, early_stopping_rounds=None,\n",
       "             enable_categorical=False, eval_metric=None, feature_types=None,\n",
       "             gamma=None, gpu_id=None, grow_policy=None, importance_type=None,\n",
       "             interaction_constraints=None, learning_rate=0.1, max_bin=None,\n",
       "             max_cat_threshold=None, max_cat_to_onehot=None,\n",
       "             max_delta_step=None, max_depth=5, max_leaves=None,\n",
       "             min_child_weight=None, missing=nan, monotone_constraints=None,\n",
       "             n_estimators=947, n_jobs=None, num_parallel_tree=None,\n",
       "             predictor=None, random_state=0, ...)"
      ]
     },
     "execution_count": 73,
     "metadata": {},
     "output_type": "execute_result"
    }
   ],
   "source": [
    "#train using full dataset and best parameters\n",
    "best_params = best_reg_xg.best_params_\n",
    "xg = XGBRegressor(n_estimators = best_params['n_estimators'], max_depth = best_params['max_depth'],learning_rate = best_params['learning_rate'],subsample = best_params['subsample'],colsample_bytree = best_params['colsample_bytree'], random_state=0)\n",
    "xg.fit(X_train,y_train)"
   ]
  },
  {
   "cell_type": "code",
   "execution_count": null,
   "id": "KOuANqb8gEvN",
   "metadata": {
    "colab": {
     "base_uri": "https://localhost:8080/"
    },
    "id": "KOuANqb8gEvN",
    "outputId": "0ca16677-8204-4d4b-e79c-0dc2f66f66d6"
   },
   "outputs": [
    {
     "name": "stdout",
     "output_type": "stream",
     "text": [
      "Accuracy Score[R2]_Train :  82.96691453879889\n"
     ]
    }
   ],
   "source": [
    "## Predicting training data\n",
    "y_pred=xg.predict(X_train)\n",
    "accuracy = metrics.r2_score(y_train, y_pred)\n",
    "print(\"Accuracy Score[R2]_Train : \", accuracy*100)"
   ]
  },
  {
   "cell_type": "code",
   "execution_count": null,
   "id": "WqathzIBfkpR",
   "metadata": {
    "colab": {
     "base_uri": "https://localhost:8080/"
    },
    "id": "WqathzIBfkpR",
    "outputId": "926e5ac2-a9e1-450d-ba90-612897451219"
   },
   "outputs": [
    {
     "name": "stdout",
     "output_type": "stream",
     "text": [
      "Accuracy Score[R2]_Test  :  81.4902374436205\n"
     ]
    }
   ],
   "source": [
    "## Predicting the Test Data\n",
    "y_pred = xg.predict(X_test)\n",
    "accuracy_xg = metrics.r2_score(y_test, y_pred)\n",
    "print(\"Accuracy Score[R2]_Test  : \", accuracy_xg*100)"
   ]
  },
  {
   "cell_type": "markdown",
   "id": "eoVvd9rVLMwB",
   "metadata": {
    "id": "eoVvd9rVLMwB"
   },
   "source": [
    "**Lasso Regression - HT**"
   ]
  },
  {
   "cell_type": "code",
   "execution_count": null,
   "id": "UHk4Jiz5K2VR",
   "metadata": {
    "colab": {
     "base_uri": "https://localhost:8080/"
    },
    "id": "UHk4Jiz5K2VR",
    "outputId": "ee19a857-c804-46bf-e0f7-9255d027e19d"
   },
   "outputs": [
    {
     "name": "stdout",
     "output_type": "stream",
     "text": [
      "Fitting 3 folds for each of 10 candidates, totalling 30 fits\n",
      "Lasso\n",
      "Best Score: 0.4163462418621356\n",
      "Best Parameters: {'selection': 'random', 'max_iter': 4000, 'alpha': 1}\n"
     ]
    }
   ],
   "source": [
    "la = Lasso(random_state = 0)\n",
    "params = {\n",
    "    'alpha': [1,2],\n",
    "    'selection': ['random', 'cyclic'],\n",
    "    'max_iter': [1000, 3000, 4000]\n",
    "    }\n",
    "reg_la = RandomizedSearchCV(la, param_distributions = params, cv = 3, verbose = True, n_jobs = 1, random_state = 0)\n",
    "best_reg_la = reg_la.fit(X_train[:50000],y_train[:50000])\n",
    "reg_performance(best_reg_la,'Lasso')"
   ]
  },
  {
   "cell_type": "code",
   "execution_count": null,
   "id": "3wa7q0lFMzVg",
   "metadata": {
    "colab": {
     "base_uri": "https://localhost:8080/",
     "height": 74
    },
    "id": "3wa7q0lFMzVg",
    "outputId": "2516e06d-8d90-41b9-a044-4b8cc20daa1d"
   },
   "outputs": [
    {
     "data": {
      "text/html": [
       "<style>#sk-container-id-2 {color: black;background-color: white;}#sk-container-id-2 pre{padding: 0;}#sk-container-id-2 div.sk-toggleable {background-color: white;}#sk-container-id-2 label.sk-toggleable__label {cursor: pointer;display: block;width: 100%;margin-bottom: 0;padding: 0.3em;box-sizing: border-box;text-align: center;}#sk-container-id-2 label.sk-toggleable__label-arrow:before {content: \"▸\";float: left;margin-right: 0.25em;color: #696969;}#sk-container-id-2 label.sk-toggleable__label-arrow:hover:before {color: black;}#sk-container-id-2 div.sk-estimator:hover label.sk-toggleable__label-arrow:before {color: black;}#sk-container-id-2 div.sk-toggleable__content {max-height: 0;max-width: 0;overflow: hidden;text-align: left;background-color: #f0f8ff;}#sk-container-id-2 div.sk-toggleable__content pre {margin: 0.2em;color: black;border-radius: 0.25em;background-color: #f0f8ff;}#sk-container-id-2 input.sk-toggleable__control:checked~div.sk-toggleable__content {max-height: 200px;max-width: 100%;overflow: auto;}#sk-container-id-2 input.sk-toggleable__control:checked~label.sk-toggleable__label-arrow:before {content: \"▾\";}#sk-container-id-2 div.sk-estimator input.sk-toggleable__control:checked~label.sk-toggleable__label {background-color: #d4ebff;}#sk-container-id-2 div.sk-label input.sk-toggleable__control:checked~label.sk-toggleable__label {background-color: #d4ebff;}#sk-container-id-2 input.sk-hidden--visually {border: 0;clip: rect(1px 1px 1px 1px);clip: rect(1px, 1px, 1px, 1px);height: 1px;margin: -1px;overflow: hidden;padding: 0;position: absolute;width: 1px;}#sk-container-id-2 div.sk-estimator {font-family: monospace;background-color: #f0f8ff;border: 1px dotted black;border-radius: 0.25em;box-sizing: border-box;margin-bottom: 0.5em;}#sk-container-id-2 div.sk-estimator:hover {background-color: #d4ebff;}#sk-container-id-2 div.sk-parallel-item::after {content: \"\";width: 100%;border-bottom: 1px solid gray;flex-grow: 1;}#sk-container-id-2 div.sk-label:hover label.sk-toggleable__label {background-color: #d4ebff;}#sk-container-id-2 div.sk-serial::before {content: \"\";position: absolute;border-left: 1px solid gray;box-sizing: border-box;top: 0;bottom: 0;left: 50%;z-index: 0;}#sk-container-id-2 div.sk-serial {display: flex;flex-direction: column;align-items: center;background-color: white;padding-right: 0.2em;padding-left: 0.2em;position: relative;}#sk-container-id-2 div.sk-item {position: relative;z-index: 1;}#sk-container-id-2 div.sk-parallel {display: flex;align-items: stretch;justify-content: center;background-color: white;position: relative;}#sk-container-id-2 div.sk-item::before, #sk-container-id-2 div.sk-parallel-item::before {content: \"\";position: absolute;border-left: 1px solid gray;box-sizing: border-box;top: 0;bottom: 0;left: 50%;z-index: -1;}#sk-container-id-2 div.sk-parallel-item {display: flex;flex-direction: column;z-index: 1;position: relative;background-color: white;}#sk-container-id-2 div.sk-parallel-item:first-child::after {align-self: flex-end;width: 50%;}#sk-container-id-2 div.sk-parallel-item:last-child::after {align-self: flex-start;width: 50%;}#sk-container-id-2 div.sk-parallel-item:only-child::after {width: 0;}#sk-container-id-2 div.sk-dashed-wrapped {border: 1px dashed gray;margin: 0 0.4em 0.5em 0.4em;box-sizing: border-box;padding-bottom: 0.4em;background-color: white;}#sk-container-id-2 div.sk-label label {font-family: monospace;font-weight: bold;display: inline-block;line-height: 1.2em;}#sk-container-id-2 div.sk-label-container {text-align: center;}#sk-container-id-2 div.sk-container {/* jupyter's `normalize.less` sets `[hidden] { display: none; }` but bootstrap.min.css set `[hidden] { display: none !important; }` so we also need the `!important` here to be able to override the default hidden behavior on the sphinx rendered scikit-learn.org. See: https://github.com/scikit-learn/scikit-learn/issues/21755 */display: inline-block !important;position: relative;}#sk-container-id-2 div.sk-text-repr-fallback {display: none;}</style><div id=\"sk-container-id-2\" class=\"sk-top-container\"><div class=\"sk-text-repr-fallback\"><pre>Lasso(max_iter=4000, random_state=0, selection=&#x27;random&#x27;)</pre><b>In a Jupyter environment, please rerun this cell to show the HTML representation or trust the notebook. <br />On GitHub, the HTML representation is unable to render, please try loading this page with nbviewer.org.</b></div><div class=\"sk-container\" hidden><div class=\"sk-item\"><div class=\"sk-estimator sk-toggleable\"><input class=\"sk-toggleable__control sk-hidden--visually\" id=\"sk-estimator-id-2\" type=\"checkbox\" checked><label for=\"sk-estimator-id-2\" class=\"sk-toggleable__label sk-toggleable__label-arrow\">Lasso</label><div class=\"sk-toggleable__content\"><pre>Lasso(max_iter=4000, random_state=0, selection=&#x27;random&#x27;)</pre></div></div></div></div></div>"
      ],
      "text/plain": [
       "Lasso(max_iter=4000, random_state=0, selection='random')"
      ]
     },
     "execution_count": 80,
     "metadata": {},
     "output_type": "execute_result"
    }
   ],
   "source": [
    "#train using full dataset and best parameters\n",
    "best_params = best_reg_la.best_params_\n",
    "la = Lasso(selection = best_params['selection'],max_iter = best_params['max_iter'],random_state=0)\n",
    "la.fit(X_train,y_train)"
   ]
  },
  {
   "cell_type": "code",
   "execution_count": null,
   "id": "WrNQBA0zK2Xz",
   "metadata": {
    "colab": {
     "base_uri": "https://localhost:8080/"
    },
    "id": "WrNQBA0zK2Xz",
    "outputId": "fcdef87e-c5f3-4dec-d2b1-11cc3b401278"
   },
   "outputs": [
    {
     "name": "stdout",
     "output_type": "stream",
     "text": [
      "Accuracy Score[R2]_Train :  41.672965550520104\n"
     ]
    }
   ],
   "source": [
    "## Predicting training data\n",
    "y_pred=la.predict(X_train)\n",
    "accuracy = metrics.r2_score(y_train, y_pred)\n",
    "print(\"Accuracy Score[R2]_Train : \", accuracy*100)"
   ]
  },
  {
   "cell_type": "code",
   "execution_count": null,
   "id": "d90zLiWAK2au",
   "metadata": {
    "colab": {
     "base_uri": "https://localhost:8080/"
    },
    "id": "d90zLiWAK2au",
    "outputId": "f6a3140b-da7d-4426-c2de-9bdae2b03b47"
   },
   "outputs": [
    {
     "name": "stdout",
     "output_type": "stream",
     "text": [
      "Accuracy Score[R2]_Test  :  41.52363573489622\n"
     ]
    }
   ],
   "source": [
    "## Predicting the Test Data\n",
    "y_pred = la.predict(X_test)\n",
    "accuracy_dt = metrics.r2_score(y_test, y_pred)\n",
    "print(\"Accuracy Score[R2]_Test  : \", accuracy_dt*100)"
   ]
  },
  {
   "cell_type": "markdown",
   "id": "fjVtpSkno5LX",
   "metadata": {
    "id": "fjVtpSkno5LX"
   },
   "source": [
    "### Save the Best Model "
   ]
  },
  {
   "cell_type": "code",
   "execution_count": 18,
   "id": "UgYcgJMYo6c_",
   "metadata": {
    "id": "UgYcgJMYo6c_"
   },
   "outputs": [],
   "source": [
    "import pickle\n",
    "## File \n",
    "f = open('RandomForest_Regressor.pkl', 'wb')\n",
    "# Dumping the model and will be used in streamlit webapp\n",
    "pickle.dump(rf, f)"
   ]
  },
  {
   "cell_type": "code",
   "execution_count": null,
   "id": "bd98feb6",
   "metadata": {},
   "outputs": [],
   "source": []
  }
 ],
 "metadata": {
  "accelerator": "TPU",
  "colab": {
   "provenance": []
  },
  "gpuClass": "standard",
  "kernelspec": {
   "display_name": "Python 3",
   "language": "python",
   "name": "python3"
  },
  "language_info": {
   "codemirror_mode": {
    "name": "ipython",
    "version": 3
   },
   "file_extension": ".py",
   "mimetype": "text/x-python",
   "name": "python",
   "nbconvert_exporter": "python",
   "pygments_lexer": "ipython3",
   "version": "3.8.8"
  }
 },
 "nbformat": 4,
 "nbformat_minor": 5
}
